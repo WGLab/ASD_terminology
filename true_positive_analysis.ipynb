{
 "cells": [
  {
   "cell_type": "markdown",
   "metadata": {},
   "source": [
    "This notebook finds overlapping predictions between CLAMP, cTAKES, and MetaMap false positive (FP) predictions and uses them to find potential benchmark (BM) ASD terms."
   ]
  },
  {
   "cell_type": "code",
   "execution_count": 1,
   "metadata": {},
   "outputs": [
    {
     "name": "stderr",
     "output_type": "stream",
     "text": [
      "/opt/anaconda3/lib/python3.7/site-packages/statsmodels/tools/_testing.py:19: FutureWarning: pandas.util.testing is deprecated. Use the functions in the public API at pandas.testing instead.\n",
      "  import pandas.util.testing as tm\n"
     ]
    }
   ],
   "source": [
    "import matplotlib\n",
    "import matplotlib.pyplot as plt\n",
    "from matplotlib_venn import venn3\n",
    "import seaborn as sns\n",
    "\n",
    "import pandas as pd\n",
    "import os\n",
    "import numpy as np\n",
    "from unidecode import unidecode"
   ]
  },
  {
   "cell_type": "code",
   "execution_count": 2,
   "metadata": {},
   "outputs": [
    {
     "name": "stdout",
     "output_type": "stream",
     "text": [
      "The folder 'figures' already exists, so a new folder was not created.\n"
     ]
    }
   ],
   "source": [
    "# configurations that can be modified\n",
    "ABSTRACT = True # True if running this program of abstracts, False if running on full-texts\n",
    "\n",
    "FIGURES_DIR = \"figures\" # diretory where figures will be saved\n",
    "\n",
    "if not os.path.exists(FIGURES_DIR):\n",
    "    os.makedirs(FIGURES_DIR)\n",
    "else:\n",
    "    print(f\"The folder '{FIGURES_DIR}' already exists, so a new folder was not created.\")"
   ]
  },
  {
   "cell_type": "markdown",
   "metadata": {},
   "source": [
    "# Load dataframe with \"true\" benchmark (BM) labels "
   ]
  },
  {
   "cell_type": "code",
   "execution_count": 3,
   "metadata": {},
   "outputs": [],
   "source": [
    "BM_DIR = \"BM_labelled\" # folder where the results (dataframe with labels) will be stored\n",
    "\n",
    "if ABSTRACT:\n",
    "    labels_df = pd.read_csv(os.path.join(BM_DIR, \"abstract_labels.csv\"))\n",
    "else:\n",
    "    labels_df = pd.read_csv(os.path.join(BM_DIR, \"full_text_labels.csv\"))"
   ]
  },
  {
   "cell_type": "code",
   "execution_count": 4,
   "metadata": {},
   "outputs": [],
   "source": [
    "# read in BM ASD terms and add TUI\n",
    "BM_df = pd.read_csv(\"BM_terms.csv\")\n",
    "BM_df.rename(columns={\"CUI\": \"CUI_original\"}, inplace=True)\n",
    "BM_df[\"NEGATED\"] = BM_df[\"CUI_original\"].apply(lambda x: str(x)[0] == \"-\")\n",
    "BM_df[\"CUI\"] = BM_df[\"CUI_original\"].apply(lambda x: str(x).replace(\"-\", \"\"))\n",
    "BM_cui_to_tui_df = pd.read_csv(\"tui_list_BM.txt\", sep=\"\\t\", index_col=0, header=None).reset_index()\n",
    "BM_cui_to_tui_df.columns = [\"CUI\", \"TUI\"]\n",
    "BM_df = BM_df.merge(BM_cui_to_tui_df, how=\"left\")\n",
    "BM_df[\"TEXT\"] = BM_df[\"TEXT\"].str.strip().str.lower()\n",
    "BM_df = BM_df.drop_duplicates()"
   ]
  },
  {
   "cell_type": "code",
   "execution_count": 5,
   "metadata": {},
   "outputs": [
    {
     "name": "stdout",
     "output_type": "stream",
     "text": [
      "There are 101 unique CUI\n",
      "There are 827 unique BM terms\n",
      "There are 783 unique BM terms (general)\n"
     ]
    }
   ],
   "source": [
    "ASD_CUI = set(BM_df[\"CUI\"])\n",
    "print(f\"There are {len(ASD_CUI)} unique CUI\")\n",
    "\n",
    "BM_ents = set(BM_df[\"TEXT\"])\n",
    "print(f\"There are {len(BM_ents)} unique BM terms\")\n",
    "\n",
    "BM_ents_general = set(BM_df[BM_df[\"TYPE\"]==\"General\"][\"TEXT\"])\n",
    "print(f\"There are {len(BM_ents_general)} unique BM terms (general)\")"
   ]
  },
  {
   "cell_type": "code",
   "execution_count": 6,
   "metadata": {},
   "outputs": [],
   "source": [
    "# merge labels with BM term information\n",
    "labels_df = labels_df.merge(BM_df, left_on=\"Entity_lower\", right_on=\"TEXT\", how=\"left\")\n",
    "\n",
    "# clean-up\n",
    "labels_df = labels_df.replace({'Entity_lower': {\"asperger 's\": \"asperger's\"}})\n",
    "labels_df = labels_df.replace({'Entity': {\"asperger 's\": \"asperger's\"}})\n",
    "labels_df = labels_df.replace({'Entity': {\"Asperger 's\": \"Asperger's\"}})\n",
    "\n",
    "# case-sensitive for ASD and ASDs\n",
    "labels_df = labels_df[~((labels_df[\"Entity_lower\"]==\"asds\")&(labels_df[\"Entity\"]!=\"ASDs\"))]\n",
    "labels_df = labels_df[~((labels_df[\"Entity_lower\"]==\"asd\")&(labels_df[\"Entity\"]!=\"ASD\"))]"
   ]
  },
  {
   "cell_type": "code",
   "execution_count": 7,
   "metadata": {},
   "outputs": [
    {
     "name": "stdout",
     "output_type": "stream",
     "text": [
      "Distinct true entities detected (case-sensitive): 159\n",
      "Distinct true entities detected (case-insensitive): 106\n"
     ]
    }
   ],
   "source": [
    "# check that entitiy and CUI columns are not empty\n",
    "assert len(labels_df[labels_df[\"Entity\"].str.lower() == \"nan\"]) == 0\n",
    "assert len(labels_df[labels_df[\"Entity_lower\"].str.lower() == \"nan\"]) == 0\n",
    "assert len(labels_df[labels_df[\"CUI\"].str.len() == 0]) == 0\n",
    "\n",
    "print(\"Distinct true entities detected (case-sensitive):\", len(set(labels_df[\"Entity\"])))\n",
    "print(\"Distinct true entities detected (case-insensitive):\", len(set(labels_df[\"Entity_lower\"])))"
   ]
  },
  {
   "cell_type": "markdown",
   "metadata": {},
   "source": [
    "# Get CLAMP TP output/predictions"
   ]
  },
  {
   "cell_type": "code",
   "execution_count": 8,
   "metadata": {},
   "outputs": [],
   "source": [
    "# configurations that can be modified\n",
    "CLAMP_DIRECTORY = \"clamp\" # parent directory for CLAMP-related files\n",
    "\n",
    "# formatted CLAMP output/predictions\n",
    "CLAMP_RESULTS_DIRECTORY_FULL_TEXT = os.path.join(CLAMP_DIRECTORY, \"clamp_results_full_text\")\n",
    "CLAMP_RESULTS_DIRECTORY_ABSTRACT = os.path.join(CLAMP_DIRECTORY, \"clamp_results_abstract\")\n",
    "\n",
    "if ABSTRACT:\n",
    "    CLAMP_RESULTS_DIRECTORY = CLAMP_RESULTS_DIRECTORY_ABSTRACT \n",
    "else:\n",
    "    CLAMP_RESULTS_DIRECTORY = CLAMP_RESULTS_DIRECTORY_FULL_TEXT"
   ]
  },
  {
   "cell_type": "code",
   "execution_count": 9,
   "metadata": {},
   "outputs": [
    {
     "name": "stderr",
     "output_type": "stream",
     "text": [
      "/opt/anaconda3/lib/python3.7/site-packages/IPython/core/interactiveshell.py:3058: DtypeWarning: Columns (16) have mixed types.Specify dtype option on import or set low_memory=False.\n",
      "  interactivity=interactivity, compiler=compiler, result=result)\n"
     ]
    }
   ],
   "source": [
    "pred_df_temp = pd.read_csv(os.path.join(CLAMP_RESULTS_DIRECTORY, \"clamp_true_positive_all.csv\"))\n",
    "pred_df_temp = pred_df_temp[[\"Entity_pred\", \"TEXT\"]]"
   ]
  },
  {
   "cell_type": "code",
   "execution_count": 10,
   "metadata": {},
   "outputs": [
    {
     "name": "stdout",
     "output_type": "stream",
     "text": [
      "before dropping duplicates: 96328\n",
      "after dropping duplicates: 15821\n"
     ]
    }
   ],
   "source": [
    "print(\"before dropping duplicates:\", len(pred_df_temp))\n",
    "pred_df_temp = pred_df_temp.drop_duplicates()\n",
    "print(\"after dropping duplicates:\", len(pred_df_temp))\n",
    "pred_df_clamp = pred_df_temp"
   ]
  },
  {
   "cell_type": "markdown",
   "metadata": {},
   "source": [
    "# Get cTAKES TP output/predictions"
   ]
  },
  {
   "cell_type": "code",
   "execution_count": 11,
   "metadata": {},
   "outputs": [],
   "source": [
    "# configurations that can be modified\n",
    "CTAKES_DIRECTORY = \"ctakes\" # parent directory for cTAKES-related files\n",
    "\n",
    "# formatted cTAKES output/predictions\n",
    "CTAKES_RESULTS_DIRECTORY_FULL_TEXT = os.path.join(CTAKES_DIRECTORY, \"ctakes_results_full_text\")\n",
    "CTAKES_RESULTS_DIRECTORY_ABSTRACT = os.path.join(CTAKES_DIRECTORY, \"ctakes_results_abstract\")\n",
    "\n",
    "if ABSTRACT:\n",
    "    CTAKES_RESULTS_DIRECTORY = CTAKES_RESULTS_DIRECTORY_ABSTRACT \n",
    "else:\n",
    "    CTAKES_RESULTS_DIRECTORY = CTAKES_RESULTS_DIRECTORY_FULL_TEXT"
   ]
  },
  {
   "cell_type": "code",
   "execution_count": 12,
   "metadata": {},
   "outputs": [],
   "source": [
    "pred_df_temp = pd.read_csv(os.path.join(CTAKES_RESULTS_DIRECTORY, \"ctakes_true_positive_all.csv\"))\n",
    "pred_df_temp = pred_df_temp[[\"Entity_pred\", \"TEXT\"]]"
   ]
  },
  {
   "cell_type": "code",
   "execution_count": 13,
   "metadata": {},
   "outputs": [
    {
     "name": "stdout",
     "output_type": "stream",
     "text": [
      "before dropping duplicates: 123841\n",
      "after dropping duplicates: 221\n"
     ]
    }
   ],
   "source": [
    "print(\"before dropping duplicates:\", len(pred_df_temp))\n",
    "pred_df_temp = pred_df_temp.drop_duplicates()\n",
    "print(\"after dropping duplicates:\", len(pred_df_temp))\n",
    "pred_df_ctakes = pred_df_temp"
   ]
  },
  {
   "cell_type": "markdown",
   "metadata": {},
   "source": [
    "# Get MetaMap TP output/predictions"
   ]
  },
  {
   "cell_type": "code",
   "execution_count": 14,
   "metadata": {},
   "outputs": [],
   "source": [
    "# configurations that can be modified\n",
    "METAMAP_DIRECTORY = \"metamap\"\n",
    "\n",
    "# formatted MetaMap output/predictions\n",
    "METAMAP_RESULTS_DIRECTORY_FULL_TEXT = os.path.join(METAMAP_DIRECTORY, \"metamap_results_full_text\")\n",
    "METAMAP_RESULTS_DIRECTORY_ABSTRACT = os.path.join(METAMAP_DIRECTORY, \"metamap_results_abstract\")\n",
    "\n",
    "if ABSTRACT:\n",
    "    METAMAP_RESULTS_DIRECTORY = METAMAP_RESULTS_DIRECTORY_ABSTRACT \n",
    "else:\n",
    "    METAMAP_RESULTS_DIRECTORY = METAMAP_RESULTS_DIRECTORY_FULL_TEXT"
   ]
  },
  {
   "cell_type": "code",
   "execution_count": 15,
   "metadata": {},
   "outputs": [],
   "source": [
    "labels_df_temp = pd.read_csv(os.path.join(METAMAP_RESULTS_DIRECTORY, \"metamap_labels.csv\"))\n",
    "# merge labels with BM term information\n",
    "labels_df_temp = labels_df_temp.merge(BM_df, left_on=\"Entity_lower\", right_on=\"TEXT\", how=\"left\")\n",
    "\n",
    "# clean-up\n",
    "labels_df_temp = labels_df_temp.replace({'Entity_lower': {\"asperger 's\": \"asperger's\"}})\n",
    "labels_df_temp = labels_df_temp.replace({'Entity': {\"asperger 's\": \"asperger's\"}})\n",
    "labels_df_temp = labels_df_temp.replace({'Entity': {\"Asperger 's\": \"Asperger's\"}})\n",
    "\n",
    "# case-sensitive for ASD and ASDs\n",
    "labels_df_temp = labels_df_temp[~((labels_df_temp[\"Entity_lower\"]==\"asds\")&(labels_df_temp[\"Entity\"]!=\"ASDs\"))]\n",
    "labels_df_temp = labels_df_temp[~((labels_df_temp[\"Entity_lower\"]==\"asd\")&(labels_df_temp[\"Entity\"]!=\"ASD\"))]\n",
    "\n",
    "labels_df_metamap = labels_df_temp"
   ]
  },
  {
   "cell_type": "code",
   "execution_count": 16,
   "metadata": {},
   "outputs": [],
   "source": [
    "pred_df_temp = pd.read_csv(os.path.join(METAMAP_RESULTS_DIRECTORY, \"metamap_true_positive_all.csv\"))\n",
    "pred_df_temp = pred_df_temp[[\"Entity_pred\", \"TEXT\"]]"
   ]
  },
  {
   "cell_type": "code",
   "execution_count": 17,
   "metadata": {},
   "outputs": [
    {
     "name": "stdout",
     "output_type": "stream",
     "text": [
      "before dropping duplicates: 100398\n",
      "after dropping duplicates: 735\n"
     ]
    }
   ],
   "source": [
    "print(\"before dropping duplicates:\", len(pred_df_temp))\n",
    "pred_df_temp = pred_df_temp.drop_duplicates()\n",
    "print(\"after dropping duplicates:\", len(pred_df_temp))\n",
    "pred_df_metamap = pred_df_temp"
   ]
  },
  {
   "cell_type": "markdown",
   "metadata": {},
   "source": [
    "# Overlapping predictions with BM term"
   ]
  },
  {
   "cell_type": "code",
   "execution_count": 18,
   "metadata": {},
   "outputs": [],
   "source": [
    "pred_df = pd.concat([pred_df_clamp, pred_df_ctakes, pred_df_metamap])"
   ]
  },
  {
   "cell_type": "code",
   "execution_count": 19,
   "metadata": {},
   "outputs": [],
   "source": [
    "df = pd.DataFrame()\n",
    "for i, row in pred_df.iterrows():\n",
    "    true = unidecode(str(row[\"TEXT\"]))\n",
    "    pred = unidecode(str(row[\"Entity_pred\"]))\n",
    "    if true in BM_ents and true in pred:\n",
    "        df = df.append({\"Entity_pred\": pred, \"TEXT\": true}, ignore_index=True)"
   ]
  },
  {
   "cell_type": "code",
   "execution_count": 20,
   "metadata": {},
   "outputs": [],
   "source": [
    "df.columns = [\"Entity_pred\", \"TEXT\"]\n",
    "pred_df = df"
   ]
  },
  {
   "cell_type": "code",
   "execution_count": 21,
   "metadata": {},
   "outputs": [],
   "source": [
    "pred_df_grouped = pred_df.groupby(\"TEXT\").agg({\"Entity_pred\": lambda x: \"; \".join(sorted(list(set([str(i) for i in x]))))}).reset_index()\n",
    "pred_df_grouped.columns = [\"BM term\", \"Overlapping_predictions (separated by ';')\"]\n",
    "\n",
    "if ABSTRACT:\n",
    "    pred_df_grouped.to_csv(\"tp_overlap_abstract.csv\", index=False)\n",
    "else:\n",
    "    pred_df_grouped.to_csv(\"tp_overlap_fulltext.csv\", index=False)"
   ]
  },
  {
   "cell_type": "code",
   "execution_count": 22,
   "metadata": {},
   "outputs": [
    {
     "data": {
      "text/plain": [
       "True"
      ]
     },
     "execution_count": 22,
     "metadata": {},
     "output_type": "execute_result"
    }
   ],
   "source": [
    "ABSTRACT"
   ]
  },
  {
   "cell_type": "code",
   "execution_count": null,
   "metadata": {},
   "outputs": [],
   "source": []
  }
 ],
 "metadata": {
  "kernelspec": {
   "display_name": "Python 3",
   "language": "python",
   "name": "python3"
  },
  "language_info": {
   "codemirror_mode": {
    "name": "ipython",
    "version": 3
   },
   "file_extension": ".py",
   "mimetype": "text/x-python",
   "name": "python",
   "nbconvert_exporter": "python",
   "pygments_lexer": "ipython3",
   "version": "3.7.4"
  }
 },
 "nbformat": 4,
 "nbformat_minor": 2
}
